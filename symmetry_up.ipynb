{
 "cells": [
  {
   "cell_type": "code",
   "execution_count": 55,
   "id": "d1937541",
   "metadata": {},
   "outputs": [],
   "source": [
    "from pymatgen.symmetry.analyzer import SpacegroupAnalyzer\n",
    "from pymatgen.ext.matproj import MPRester\n",
    "from pymatgen.io.cif import CifWriter\n",
    "from IPython.display import FileLink\n",
    "\n",
    "from pymatgen.core.operations import SymmOp\n",
    "from jupyter_jsmol import JsmolView\n",
    "from jupyter_jsmol.pymatgen import quick_view"
   ]
  },
  {
   "cell_type": "code",
   "execution_count": 56,
   "id": "4e9d5631",
   "metadata": {},
   "outputs": [
    {
     "data": {
      "text/html": [
       "<a href='mp-961682.cif' target='_blank'>mp-961682.cif</a><br>"
      ],
      "text/plain": [
       "/home/users/a/c/achapaux/mp-961682.cif"
      ]
     },
     "metadata": {},
     "output_type": "display_data"
    }
   ],
   "source": [
    "key = \"xFkmtLT8p034lKKT\"\n",
    "material = \"mp-961682\"\n",
    "m = MPRester(key)\n",
    "s = m.get_structure_by_material_id(material,conventional_unit_cell=True)\n",
    "doc = CifWriter(s)\n",
    "doc.write_file(material+\".cif\")\n",
    "display(FileLink(material+\".cif\"))"
   ]
  },
  {
   "cell_type": "code",
   "execution_count": 57,
   "id": "b07e5d5c",
   "metadata": {},
   "outputs": [
    {
     "name": "stdout",
     "output_type": "stream",
     "text": [
      "Détails des noeuds du matériau : \n",
      "\n",
      "Full Formula (Ti4 Sn4 Pd4)\n",
      "Reduced Formula: TiSnPd\n",
      "abc   :   6.214752   6.214752   6.214752\n",
      "angles:  90.000000  90.000000  90.000000\n",
      "Sites (12)\n",
      "  #  SP       a     b     c\n",
      "---  ----  ----  ----  ----\n",
      "  0  Ti    0.25  0.25  0.75\n",
      "  1  Ti    0.25  0.75  0.25\n",
      "  2  Ti    0.75  0.25  0.25\n",
      "  3  Ti    0.75  0.75  0.75\n",
      "  4  Sn    0.25  0.25  0.25\n",
      "  5  Sn    0.25  0.75  0.75\n",
      "  6  Sn    0.75  0.25  0.75\n",
      "  7  Sn    0.75  0.75  0.25\n",
      "  8  Pd    0.5   0     0\n",
      "  9  Pd    0.5   0.5   0.5\n",
      " 10  Pd    0     0     0.5\n",
      " 11  Pd    0     0.5   0\n"
     ]
    }
   ],
   "source": [
    "print (\"Détails des noeuds du matériau : \\n\")\n",
    "print(s)"
   ]
  },
  {
   "cell_type": "markdown",
   "id": "d2a69c74",
   "metadata": {},
   "source": [
    "# Réflexion"
   ]
  },
  {
   "cell_type": "code",
   "execution_count": 58,
   "id": "8bb04cf7",
   "metadata": {},
   "outputs": [
    {
     "name": "stdout",
     "output_type": "stream",
     "text": [
      "Position de l'atome de Ti : [0.25 0.75 0.25]\n",
      "Position de l'atome après symétrie : [ 0.75 -0.25 -0.25]\n",
      "\n",
      "Matrice associée : \n",
      "[[ 0.  1.  0.]\n",
      " [-1.  0.  0.]\n",
      " [ 0.  0. -1.]]\n",
      " \n",
      "Vecteur associé : \n",
      "[0. 0. 0.]\n"
     ]
    }
   ],
   "source": [
    "sym = SymmOp.from_xyz_string('-y,-x,z') #Création de la symétrie\n",
    "pos = s.sites[1].frac_coords #Noeud n°1 pour Ti\n",
    "result = Op.operate(pos)\n",
    "\n",
    "print (\"Position de l'atome de Ti : \"+ str(pos))\n",
    "print (\"Position de l'atome après symétrie : \"+ str(result))\n",
    "\n",
    "mat = Op.rotation_matrix\n",
    "print( \"\\nMatrice associée : \")\n",
    "print(mat)\n",
    "\n",
    "vect = Op.translation_vector\n",
    "print(\" \\nVecteur associé : \")\n",
    "print (vect)"
   ]
  },
  {
   "cell_type": "markdown",
   "id": "1f575deb",
   "metadata": {},
   "source": [
    "# Rotation d'ordre 2\n"
   ]
  },
  {
   "cell_type": "code",
   "execution_count": 59,
   "id": "73c90d8c",
   "metadata": {},
   "outputs": [
    {
     "name": "stdout",
     "output_type": "stream",
     "text": [
      "Position de l'atome de Sn : [0.25 0.75 0.75]\n",
      "Position de l'atome après symétrie : [-0.25  0.75 -0.75]\n",
      "\n",
      "Matrice associée : \n",
      "[[-1.  0.  0.]\n",
      " [ 0.  1.  0.]\n",
      " [ 0.  0. -1.]]\n",
      " \n",
      "Vecteur associé : \n",
      "[0. 0. 0.]\n"
     ]
    }
   ],
   "source": [
    "Op = SymmOp.from_xyz_string('-x,y,-z') #Création de la symétrie\n",
    "pos = s.sites[5].frac_coords  #Noeud n°5 pour Sn\n",
    "result = Op.operate(pos)\n",
    "\n",
    "print (\"Position de l'atome de Sn : \"+ str(pos))\n",
    "print (\"Position de l'atome après symétrie : \"+ str(result))\n",
    "\n",
    "mat = Op.rotation_matrix\n",
    "print( \"\\nMatrice associée : \")\n",
    "print(mat)\n",
    "\n",
    "vect = Op.translation_vector\n",
    "print(\" \\nVecteur associé : \")\n",
    "print (vect)"
   ]
  },
  {
   "cell_type": "markdown",
   "id": "e596e5c0",
   "metadata": {},
   "source": [
    "# Roto-inversion"
   ]
  },
  {
   "cell_type": "code",
   "execution_count": 60,
   "id": "4751aff4",
   "metadata": {},
   "outputs": [
    {
     "name": "stdout",
     "output_type": "stream",
     "text": [
      "Position de l'atome de Pd : [0.5 0.5 0.5]\n",
      "Position de l'atome après symétrie : [ 0.5 -0.5 -0.5]\n",
      "\n",
      "Matrice associée : \n",
      "[[ 0.  1.  0.]\n",
      " [-1.  0.  0.]\n",
      " [ 0.  0. -1.]]\n",
      " \n",
      "Vecteur associé : \n",
      "[0. 0. 0.]\n"
     ]
    }
   ],
   "source": [
    "Op = SymmOp.from_xyz_string('y,-x,-z') #Création de la symétrie\n",
    "pos = s.sites[9].frac_coords #Noeud n°9 pour Pd\n",
    "result = Op.operate(pos)\n",
    "\n",
    "print (\"Position de l'atome de Pd : \"+ str(pos))\n",
    "print (\"Position de l'atome après symétrie : \"+ str(result))\n",
    "\n",
    "mat = Op.rotation_matrix\n",
    "print( \"\\nMatrice associée : \")\n",
    "print(mat)\n",
    "\n",
    "vect = Op.translation_vector\n",
    "print(\" \\nVecteur associé : \")\n",
    "print (vect)"
   ]
  },
  {
   "cell_type": "code",
   "execution_count": null,
   "id": "18f4510f",
   "metadata": {},
   "outputs": [],
   "source": []
  }
 ],
 "metadata": {
  "kernelspec": {
   "display_name": "Python 3",
   "language": "python",
   "name": "python3"
  },
  "language_info": {
   "codemirror_mode": {
    "name": "ipython",
    "version": 3
   },
   "file_extension": ".py",
   "mimetype": "text/x-python",
   "name": "python",
   "nbconvert_exporter": "python",
   "pygments_lexer": "ipython3",
   "version": "3.6.8"
  }
 },
 "nbformat": 4,
 "nbformat_minor": 5
}

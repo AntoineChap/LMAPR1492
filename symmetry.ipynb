{
 "cells": [
  {
   "cell_type": "code",
   "execution_count": 21,
   "id": "d66d7b25",
   "metadata": {},
   "outputs": [],
   "source": [
    "from pymatgen.symmetry.analyzer import SpacegroupAnalyzer\n",
    "from pymatgen.ext.matproj import MPRester\n",
    "from pymatgen.io.cif import CifWriter\n",
    "from IPython.display import FileLink"
   ]
  },
  {
   "cell_type": "code",
   "execution_count": 22,
   "id": "ef4abaaf",
   "metadata": {},
   "outputs": [
    {
     "data": {
      "text/html": [
       "<a href='mp-961682.cif' target='_blank'>mp-961682.cif</a><br>"
      ],
      "text/plain": [
       "/home/users/a/c/achapaux/mp-961682.cif"
      ]
     },
     "metadata": {},
     "output_type": "display_data"
    }
   ],
   "source": [
    "key = \"xFkmtLT8p034lKKT\"\n",
    "material = \"mp-961682\"\n",
    "m = MPRester(key)\n",
    "s = m.get_structure_by_material_id(material,conventional_unit_cell=True)\n",
    "doc = CifWriter(s)\n",
    "doc.write_file(material+\".cif\")\n",
    "display(FileLink(material+\".cif\"))"
   ]
  },
  {
   "cell_type": "code",
   "execution_count": null,
   "id": "85c1ed91",
   "metadata": {},
   "outputs": [],
   "source": [
    "print(\"direct lattice\")\n",
    "struct.lattice"
   ]
  },
  {
   "cell_type": "code",
   "execution_count": null,
   "id": "25c214cb",
   "metadata": {},
   "outputs": [],
   "source": [
    "print(\"reciprocal lattice\")\n",
    "struct.lattice.reciprocal_lattice"
   ]
  },
  {
   "cell_type": "code",
   "execution_count": null,
   "id": "1ffc9ce1",
   "metadata": {},
   "outputs": [],
   "source": [
    "print(\"lattice system\")\n",
    "spaceGroupAanalysis.get_lattice_type()"
   ]
  },
  {
   "cell_type": "code",
   "execution_count": null,
   "id": "6e1fe4c6",
   "metadata": {},
   "outputs": [],
   "source": [
    "print(\"crystal system\")\n",
    "spaceGroupAanalysis.get_crystal_system()"
   ]
  },
  {
   "cell_type": "code",
   "execution_count": null,
   "id": "a5751aea",
   "metadata": {},
   "outputs": [],
   "source": [
    "print(\"point group\")\n",
    "spaceGroupAanalysis.get_point_group_symbol()"
   ]
  }
 ],
 "metadata": {
  "kernelspec": {
   "display_name": "Python 3",
   "language": "python",
   "name": "python3"
  },
  "language_info": {
   "codemirror_mode": {
    "name": "ipython",
    "version": 3
   },
   "file_extension": ".py",
   "mimetype": "text/x-python",
   "name": "python",
   "nbconvert_exporter": "python",
   "pygments_lexer": "ipython3",
   "version": "3.6.8"
  }
 },
 "nbformat": 4,
 "nbformat_minor": 5
}

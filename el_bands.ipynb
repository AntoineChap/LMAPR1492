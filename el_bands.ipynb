{
 "cells": [
  {
   "cell_type": "markdown",
   "id": "596f06c9",
   "metadata": {},
   "source": [
    "# Téléchargement du fichier cif"
   ]
  },
  {
   "cell_type": "code",
   "execution_count": null,
   "id": "fc7ea662",
   "metadata": {},
   "outputs": [],
   "source": [
    "from pymatgen.symmetry.analyzer import SpacegroupAnalyzer\n",
    "from pymatgen.ext.matproj import MPRester\n",
    "from pymatgen.io.cif import CifWriter\n",
    "from IPython.display import FileLink\n",
    "from pymatgen.electronic_structure.plotter import BSPlotter\n",
    "import numpy as np\n",
    "import matplotlib.pyplot as plt\n"
   ]
  },
  {
   "cell_type": "code",
   "execution_count": null,
   "id": "6b9052b6",
   "metadata": {},
   "outputs": [],
   "source": [
    "key = \"xFkmtLT8p034lKKT\"\n",
    "material = \"mp-961682\"\n",
    "m = MPRester(key)\n",
    "s = m.get_structure_by_material_id(material,conventional_unit_cell=True)\n",
    "doc = CifWriter(s)\n",
    "doc.write_file(material+\".cif\")\n",
    "display(FileLink(material+\".cif\"))"
   ]
  },
  {
   "cell_type": "markdown",
   "id": "82ef4540",
   "metadata": {},
   "source": [
    "# Détermination bande interdite"
   ]
  },
  {
   "cell_type": "code",
   "execution_count": null,
   "id": "b43b43fb",
   "metadata": {},
   "outputs": [],
   "source": [
    "bandstruct = m.get_bandstructure_by_material_id(material)\n",
    "bsplotter = BSPlotter(bandstruct)\n",
    "bsplotter.show()\n",
    "\n",
    "print(\"Informations de la bande interdite : \",bandstruct.get_band_gap())\n",
    "\n",
    "\n",
    "\n",
    "#bien dire qu'on est en semi conducteur : bande interdite indirecte et de 0,33768637 eV (dixième d'eV)"
   ]
  },
  {
   "cell_type": "code",
   "execution_count": null,
   "id": "19192019",
   "metadata": {},
   "outputs": [],
   "source": [
    "data = bsplotter.bs_plot_data()\n",
    "pl = bsplotter.get_plot()\n",
    "E = data.get('energy').get('1')\n",
    "D = data.get('ticks').get('distance')\n",
    "\n",
    "vbm = band.get_vbm()\n",
    "##print(\"Index vbm :\" , vbm['band_index'])   \n",
    "cbm = band.get_cbm()\n",
    "##print(\"Index cbm :\" ,cbm['band_index'])\n",
    "\n",
    "Vindex = 16 \n",
    "Cindex = 17\n",
    "#les indices max trouvés\n",
    "\n",
    "slopeV = np.zeros(10)\n",
    "slopeC = np.zeros(10)\n",
    "Dbranch = np.unique(D)\n",
    "for i in range(10):\n",
    "    DeltaD = Dbranch[i+1]-Dbranch[i]\n",
    "    slopeV[i] = abs(((E[i][Vindex])[-1] - (E[i][Vindex])[0])/(DeltaD) )\n",
    "    slopeC[i] = abs(((E[i][Cindex])[-1] - (E[i][Cindex])[0])/(DeltaD) )\n",
    "\n",
    "#print (\"la liste slopeV \", slopeV)\n",
    "#print (\"la liste slopeC \", slopeC)\n",
    "    \n",
    "maxV = np.max(slopeV) #indice 1\n",
    "minV = np.min(slopeV) # indice 5 & 8\n",
    "\n",
    "\n",
    "print(\"La dispersion maximale dans la dernière bande (valence) vaut \",maxV,\" (en bleu sur le graph) \\n\" )\n",
    "print(\"La dispersion minimale dans la dernière bande (valence) vaut \",minV,\" (en rouge sur le graph) \\n\" )\n",
    "\n",
    "maxC = np.max(slopeC) #indice 1\n",
    "minC = np.min(slopeC) #indice 4\n",
    "print(\"La dispersion maximale dans la première bande (conduction) vaut \",maxV,\" (en vert sur le graph) \\n\" )\n",
    "print(\"La dispersion minimale dans la première bande (condution) vaut \",maxV,\" (en vert sur le graph) \\n\" )\n",
    "\n",
    "\n",
    "plt.arrow(Dbranch[1], (E[1][Cindex])[0], Dbranch[2] - Dbranch[1], (E[1][Cindex])[-1] - (E[1][Cindex])[0], head_width=0.15, head_length=0.05, linewidth=3, color='g', length_includes_head=True)\n",
    "plt.arrow(Dbranch[4], (E[4][Cindex])[0], Dbranch[5] - Dbranch[4], (E[4][Cindex])[-1] - (E[4][Cindex])[0], head_width=0.15, head_length=0.05, linewidth=3, color='y', length_includes_head=True)\n",
    "\n",
    "\n",
    "plt.arrow(Dbranch[1], (E[1][Vindex])[0], Dbranch[2] -Dbranch[1], (E[1][Vindex])[-1] - (E[1][Vindex])[0], head_width=0.15, head_length=0.05, linewidth=3, color='b', length_includes_head=True)\n",
    "\n",
    "plt.arrow(Dbranch[5], (E[5][Vindex])[0], Dbranch[6] -Dbranch[5], (E[5][Vindex])[-1] - (E[5][Vindex])[0], head_width=0.15, head_length=0.05, linewidth=3, color='r', length_includes_head=True)\n",
    "plt.arrow(Dbranch[8], (E[8][Vindex])[0], Dbranch[9] -Dbranch[8], (E[8][Vindex])[-1] - (E[8][Vindex])[0], head_width=0.15, head_length=0.05, linewidth=3, color='r', length_includes_head=True)\n",
    "\n",
    "\n",
    "plt.show()"
   ]
  },
  {
   "cell_type": "markdown",
   "id": "8ddcd8e8",
   "metadata": {},
   "source": [
    "# Calcul de la masse effective\n"
   ]
  },
  {
   "cell_type": "code",
   "execution_count": null,
   "id": "a5ec9480",
   "metadata": {},
   "outputs": [],
   "source": [
    "bsplotter.get_plot(vbm_cbm_marker = True) #max et min\n",
    "\n",
    "h_bar = 6.5821e-16 # en eV\n",
    "\n",
    "val = bandstruct.get_vbm()\n",
    "E_val = val['energy']\n",
    "kpoint_val = val['kpoint'].cart_coords\n",
    "\n",
    "mEffVal = (h_bar**2 * (kpoint_val[0]**2+kpoint_val[1]**2+kpoint_val[2]**2))/(2*abs(E_val))\n",
    "\n",
    "print(\"La masse effective au sommet de la dernière bande de valence (dispersion parabolique) = \" + \n",
    "      str(mEffVal)+ \"[kg]\\n\")\n",
    "\n",
    "cond = band.get_cbm()\n",
    "E_cond = cond['energy']\n",
    "kpoint_cond = cond['kpoint'].cart_coords\n",
    "\n",
    "mEffCond = (h_bar**2 * (kpoint_cond[0]**2+kpoint_cond[1]**2+kpoint_cond[2]**2))/(2*abs(E_cond))\n",
    "\n",
    "print(\"La masse effective à la base de la première bande de conduction (dispersion parabolique) = \" + \n",
    "      str(mEffCond) + \"[kg]\")\n",
    "\n",
    "\n",
    "\n",
    "plt.show()"
   ]
  },
  {
   "cell_type": "code",
   "execution_count": null,
   "id": "2f95e767",
   "metadata": {},
   "outputs": [],
   "source": []
  }
 ],
 "metadata": {
  "kernelspec": {
   "display_name": "Python 3",
   "language": "python",
   "name": "python3"
  },
  "language_info": {
   "codemirror_mode": {
    "name": "ipython",
    "version": 3
   },
   "file_extension": ".py",
   "mimetype": "text/x-python",
   "name": "python",
   "nbconvert_exporter": "python",
   "pygments_lexer": "ipython3",
   "version": "3.6.8"
  }
 },
 "nbformat": 4,
 "nbformat_minor": 5
}
